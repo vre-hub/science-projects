{
 "cells": [
  {
   "cell_type": "code",
   "execution_count": null,
   "metadata": {
    "collapsed": false,
    "jupyter": {
     "outputs_hidden": false
    }
   },
   "outputs": [],
   "source": [
    "%matplotlib inline"
   ]
  },
  {
   "cell_type": "markdown",
   "metadata": {},
   "source": [
    "\n",
    "# Example № 1\n",
    "\n",
    "This example produces *Effective Area* (Aeff), \n",
    "*Point Spread Function* (PSF), *Energy Dispersion* (Edisp) \n",
    "files in .fits format from original KM3NeT \n",
    "simulation dst.root file. And finally merge them into one common\n",
    ".fits file.\n"
   ]
  },
  {
   "cell_type": "code",
   "execution_count": 1,
   "metadata": {
    "collapsed": false,
    "jupyter": {
     "outputs_hidden": false
    }
   },
   "outputs": [],
   "source": [
    "from km3net_testdata import data_path\n",
    "from km3irf import build_irf\n",
    "from astropy.io import fits\n",
    "from km3irf.utils import merge_fits\n",
    "\n",
    "import warnings\n",
    "\n",
    "warnings.simplefilter(\"ignore\")"
   ]
  },
  {
   "cell_type": "markdown",
   "metadata": {},
   "source": [
    "Define a path to 10 events data file from ``km3net_testdata``\n",
    "\n"
   ]
  },
  {
   "cell_type": "code",
   "execution_count": 2,
   "metadata": {
    "collapsed": false,
    "jupyter": {
     "outputs_hidden": false
    }
   },
   "outputs": [],
   "source": [
    "path_to_data = data_path(\"dst/mcv5.1.km3_numuCC.ALL.dst.bdt.10events.root\")"
   ]
  },
  {
   "cell_type": "markdown",
   "metadata": {},
   "source": [
    "## Effective Area\n",
    "Create ``DataContainer`` object from test ``.dst`` file\n",
    "\n"
   ]
  },
  {
   "cell_type": "code",
   "execution_count": 3,
   "metadata": {
    "collapsed": false,
    "jupyter": {
     "outputs_hidden": false
    }
   },
   "outputs": [],
   "source": [
    "test_irf = build_irf.DataContainer(path_to_data)"
   ]
  },
  {
   "cell_type": "markdown",
   "metadata": {},
   "source": [
    "Check, how many events in the file\n",
    "\n"
   ]
  },
  {
   "cell_type": "code",
   "execution_count": 4,
   "metadata": {
    "collapsed": false,
    "jupyter": {
     "outputs_hidden": false
    }
   },
   "outputs": [
    {
     "data": {
      "text/plain": [
       "10"
      ]
     },
     "execution_count": 4,
     "metadata": {},
     "output_type": "execute_result"
    }
   ],
   "source": [
    "test_irf.df.shape[0]"
   ]
  },
  {
   "cell_type": "markdown",
   "metadata": {},
   "source": [
    "Apply default cuts, but they also can be changed by user\n",
    "\n"
   ]
  },
  {
   "cell_type": "code",
   "execution_count": 5,
   "metadata": {
    "collapsed": false,
    "jupyter": {
     "outputs_hidden": false
    }
   },
   "outputs": [],
   "source": [
    "test_irf.apply_cuts()"
   ]
  },
  {
   "cell_type": "markdown",
   "metadata": {},
   "source": [
    "Check, how many events survived after cuts:\n",
    "\n"
   ]
  },
  {
   "cell_type": "code",
   "execution_count": 6,
   "metadata": {
    "collapsed": false,
    "jupyter": {
     "outputs_hidden": false
    }
   },
   "outputs": [
    {
     "data": {
      "text/plain": [
       "4"
      ]
     },
     "execution_count": 6,
     "metadata": {},
     "output_type": "execute_result"
    }
   ],
   "source": [
    "test_irf.df.shape[0]"
   ]
  },
  {
   "cell_type": "markdown",
   "metadata": {},
   "source": [
    "Apply re-weighting procedure for calculation new weights, which correspond\n",
    "to a new spectral index. Weights are not needed for *Effective Area*.\n",
    "\n"
   ]
  },
  {
   "cell_type": "code",
   "execution_count": 8,
   "metadata": {
    "collapsed": false,
    "jupyter": {
     "outputs_hidden": false
    }
   },
   "outputs": [
    {
     "name": "stdout",
     "output_type": "stream",
     "text": [
      "your input data file has no header, alpha_value set to default -1.4\n"
     ]
    },
    {
     "data": {
      "text/plain": [
       "dict_values([array([1.04317069, 0.95546222, 0.96131864, 1.04004845])])"
      ]
     },
     "execution_count": 8,
     "metadata": {},
     "output_type": "execute_result"
    }
   ],
   "source": [
    "weighted_dict = test_irf.weight_calc(tag=\"nu\", df_pass=test_irf.df)\n",
    "weighted_dict.values()"
   ]
  },
  {
   "cell_type": "markdown",
   "metadata": {},
   "source": [
    "To create ``.fits`` for *Effective area*, we need to pass a pandas data frame as input.\n",
    "\n"
   ]
  },
  {
   "cell_type": "code",
   "execution_count": 11,
   "metadata": {
    "collapsed": false,
    "jupyter": {
     "outputs_hidden": false
    }
   },
   "outputs": [
    {
     "name": "stdout",
     "output_type": "stream",
     "text": [
      "file aeff.fits is written successfully!\n"
     ]
    }
   ],
   "source": [
    "test_irf.build_aeff(df_pass=test_irf.df)"
   ]
  },
  {
   "cell_type": "markdown",
   "metadata": {},
   "source": [
    "## Point Spread Function\n",
    "In this part we create ``.fits`` for *Point Spread Function*\n",
    "\n"
   ]
  },
  {
   "cell_type": "code",
   "execution_count": 13,
   "metadata": {
    "collapsed": false,
    "jupyter": {
     "outputs_hidden": false
    }
   },
   "outputs": [
    {
     "name": "stdout",
     "output_type": "stream",
     "text": [
      "file psf.fits is written successfully!\n"
     ]
    }
   ],
   "source": [
    "test_irf.build_psf(df_pass=test_irf.df)"
   ]
  },
  {
   "cell_type": "markdown",
   "metadata": {},
   "source": [
    "## Energy dispertion\n",
    "In this part we create ``.fits`` for *Energy dispertion*\n",
    "\n"
   ]
  },
  {
   "cell_type": "code",
   "execution_count": 15,
   "metadata": {
    "collapsed": false,
    "jupyter": {
     "outputs_hidden": false
    }
   },
   "outputs": [
    {
     "name": "stdout",
     "output_type": "stream",
     "text": [
      "file edisp.fits is written successfully!\n"
     ]
    }
   ],
   "source": [
    "test_irf.build_edisp(norm=True, smooth=False, smooth_norm=False, df_pass=test_irf.df)"
   ]
  },
  {
   "cell_type": "markdown",
   "metadata": {},
   "source": [
    "## Merge into one file\n",
    "All ``.fits`` files can be merged in one ``.fits`` file for convenience.\n",
    "Missing background file can be taken from data folder of the package.\n",
    "Later the creation of background ``.fits`` file will be added.\n",
    "\n"
   ]
  },
  {
   "cell_type": "code",
   "execution_count": 16,
   "metadata": {
    "collapsed": false,
    "jupyter": {
     "outputs_hidden": false
    }
   },
   "outputs": [
    {
     "name": "stdout",
     "output_type": "stream",
     "text": [
      "combined IRF file new_IRF.fits is merged successfully!\n"
     ]
    }
   ],
   "source": [
    "merge_fits(\n",
    "    aeff_fits=\"aeff.fits\",\n",
    "    psf_fits=\"psf.fits\",\n",
    "    edisp_fits=\"edisp.fits\",\n",
    "    output_path=\".\",\n",
    "    output_file=\"new_IRF.fits\",\n",
    ")"
   ]
  },
  {
   "cell_type": "markdown",
   "metadata": {},
   "source": [
    "## Check content with gammapy\n",
    "| Here is an example how to test created `.fits` files with [gammapy](https://gammapy.org/).\n",
    "| Firstly it requires to install gammapy.\n",
    "| ``!pip install gammapy``\n",
    "| ``from gammapy.irf import EffectiveAreaTable2D, PSF3D, EnergyDispersion2D``\n",
    "| ``aeff = EffectiveAreaTable2D.read(\"aeff.fits\", hdu=\"EFFECTIVE AREA\")``\n",
    "| ``print(aeff)``\n",
    "| Similar procedure shouldbe repeated with other ``.fits`` files.\n",
    "\n"
   ]
  },
  {
   "cell_type": "code",
   "execution_count": 17,
   "metadata": {},
   "outputs": [],
   "source": [
    "from gammapy.irf import EffectiveAreaTable2D, PSF3D, EnergyDispersion2D"
   ]
  },
  {
   "cell_type": "code",
   "execution_count": 18,
   "metadata": {},
   "outputs": [],
   "source": [
    "aeff = EffectiveAreaTable2D.read(\"aeff.fits\", hdu=\"EFFECTIVE AREA\")"
   ]
  },
  {
   "cell_type": "code",
   "execution_count": 21,
   "metadata": {},
   "outputs": [
    {
     "name": "stdout",
     "output_type": "stream",
     "text": [
      "EffectiveAreaTable2D\n",
      "--------------------\n",
      "\n",
      "  axes  : ['energy_true', 'offset']\n",
      "  shape : (48, 12)\n",
      "  ndim  : 2\n",
      "  unit  : m2\n",
      "  dtype : >f8\n",
      "\n"
     ]
    }
   ],
   "source": [
    "print(aeff)"
   ]
  },
  {
   "cell_type": "code",
   "execution_count": null,
   "metadata": {},
   "outputs": [],
   "source": []
  }
 ],
 "metadata": {
  "kernelspec": {
   "display_name": "Python 3 (ipykernel)",
   "language": "python",
   "name": "python3"
  },
  "language_info": {
   "codemirror_mode": {
    "name": "ipython",
    "version": 3
   },
   "file_extension": ".py",
   "mimetype": "text/x-python",
   "name": "python",
   "nbconvert_exporter": "python",
   "pygments_lexer": "ipython3",
   "version": "3.9.13"
  }
 },
 "nbformat": 4,
 "nbformat_minor": 4
}
